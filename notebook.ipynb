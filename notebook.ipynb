{
 "cells": [
  {
   "cell_type": "code",
   "execution_count": null,
   "metadata": {},
   "outputs": [],
   "source": [
    "import numpy as np\n"
   ]
  },
  {
   "cell_type": "code",
   "execution_count": null,
   "metadata": {},
   "outputs": [],
   "source": [
    "np.asarray([[1,2,3,4], [1,1,1,1]])"
   ]
  }
 ],
 "metadata": {
  "interpreter": {
   "hash": "ac217b2d3b434e27c7c087c00a54b0b9c16d0f4890c567b16f7a848e13461998"
  },
  "kernelspec": {
   "display_name": "Python 3.10.4 ('machinelearning_py310')",
   "language": "python",
   "name": "python3"
  },
  "language_info": {
   "name": "python",
   "version": "3.10.4"
  },
  "orig_nbformat": 4
 },
 "nbformat": 4,
 "nbformat_minor": 2
}
